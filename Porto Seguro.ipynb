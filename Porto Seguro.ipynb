{
 "cells": [
  {
   "cell_type": "markdown",
   "metadata": {},
   "source": [
    "# Port Seguro Insurance Claim Prediction\n",
    "This is my attempt at the Porto Seguro Safe Driver Kaggle competition. It is my first attempt at a Kaggle competition and I am super excited to finally be putting my data science skills to the test. I chose this competition because I find it an interesting application of machine learning. The objective is to predict whether or not a driver will have an insurance claim. The data is masked, meaning we don't really know what any of it means.\n",
    "\n",
    "https://www.kaggle.com/c/porto-seguro-safe-driver-prediction"
   ]
  },
  {
   "cell_type": "markdown",
   "metadata": {},
   "source": [
    "I start by loading in the data and getting a broad overview of the data set. "
   ]
  },
  {
   "cell_type": "code",
   "execution_count": 7,
   "metadata": {
    "collapsed": false
   },
   "outputs": [],
   "source": [
    "import numpy as np\n",
    "import pandas as pd\n",
    "\n",
    "df = pd.read_csv('train.csv')"
   ]
  },
  {
   "cell_type": "code",
   "execution_count": 8,
   "metadata": {
    "collapsed": false,
    "scrolled": true
   },
   "outputs": [
    {
     "name": "stdout",
     "output_type": "stream",
     "text": [
      "(595212, 59)\n",
      "[dtype('int64'), dtype('int64'), dtype('int64'), dtype('int64'), dtype('int64'), dtype('int64'), dtype('int64'), dtype('int64'), dtype('int64'), dtype('int64'), dtype('int64'), dtype('int64'), dtype('int64'), dtype('int64'), dtype('int64'), dtype('int64'), dtype('int64'), dtype('int64'), dtype('int64'), dtype('int64'), dtype('float64'), dtype('float64'), dtype('float64'), dtype('int64'), dtype('int64'), dtype('int64'), dtype('int64'), dtype('int64'), dtype('int64'), dtype('int64'), dtype('int64'), dtype('int64'), dtype('int64'), dtype('int64'), dtype('int64'), dtype('float64'), dtype('float64'), dtype('float64'), dtype('float64'), dtype('float64'), dtype('float64'), dtype('float64'), dtype('int64'), dtype('int64'), dtype('int64'), dtype('int64'), dtype('int64'), dtype('int64'), dtype('int64'), dtype('int64'), dtype('int64'), dtype('int64'), dtype('int64'), dtype('int64'), dtype('int64'), dtype('int64'), dtype('int64'), dtype('int64'), dtype('int64')]\n",
      "id                0\n",
      "target            0\n",
      "ps_ind_01         0\n",
      "ps_ind_02_cat     0\n",
      "ps_ind_03         0\n",
      "ps_ind_04_cat     0\n",
      "ps_ind_05_cat     0\n",
      "ps_ind_06_bin     0\n",
      "ps_ind_07_bin     0\n",
      "ps_ind_08_bin     0\n",
      "ps_ind_09_bin     0\n",
      "ps_ind_10_bin     0\n",
      "ps_ind_11_bin     0\n",
      "ps_ind_12_bin     0\n",
      "ps_ind_13_bin     0\n",
      "ps_ind_14         0\n",
      "ps_ind_15         0\n",
      "ps_ind_16_bin     0\n",
      "ps_ind_17_bin     0\n",
      "ps_ind_18_bin     0\n",
      "ps_reg_01         0\n",
      "ps_reg_02         0\n",
      "ps_reg_03         0\n",
      "ps_car_01_cat     0\n",
      "ps_car_02_cat     0\n",
      "ps_car_03_cat     0\n",
      "ps_car_04_cat     0\n",
      "ps_car_05_cat     0\n",
      "ps_car_06_cat     0\n",
      "ps_car_07_cat     0\n",
      "ps_car_08_cat     0\n",
      "ps_car_09_cat     0\n",
      "ps_car_10_cat     0\n",
      "ps_car_11_cat     0\n",
      "ps_car_11         0\n",
      "ps_car_12         0\n",
      "ps_car_13         0\n",
      "ps_car_14         0\n",
      "ps_car_15         0\n",
      "ps_calc_01        0\n",
      "ps_calc_02        0\n",
      "ps_calc_03        0\n",
      "ps_calc_04        0\n",
      "ps_calc_05        0\n",
      "ps_calc_06        0\n",
      "ps_calc_07        0\n",
      "ps_calc_08        0\n",
      "ps_calc_09        0\n",
      "ps_calc_10        0\n",
      "ps_calc_11        0\n",
      "ps_calc_12        0\n",
      "ps_calc_13        0\n",
      "ps_calc_14        0\n",
      "ps_calc_15_bin    0\n",
      "ps_calc_16_bin    0\n",
      "ps_calc_17_bin    0\n",
      "ps_calc_18_bin    0\n",
      "ps_calc_19_bin    0\n",
      "ps_calc_20_bin    0\n",
      "dtype: int64\n"
     ]
    },
    {
     "data": {
      "text/html": [
       "<div>\n",
       "<style scoped>\n",
       "    .dataframe tbody tr th:only-of-type {\n",
       "        vertical-align: middle;\n",
       "    }\n",
       "\n",
       "    .dataframe tbody tr th {\n",
       "        vertical-align: top;\n",
       "    }\n",
       "\n",
       "    .dataframe thead th {\n",
       "        text-align: right;\n",
       "    }\n",
       "</style>\n",
       "<table border=\"1\" class=\"dataframe\">\n",
       "  <thead>\n",
       "    <tr style=\"text-align: right;\">\n",
       "      <th></th>\n",
       "      <th>id</th>\n",
       "      <th>target</th>\n",
       "      <th>ps_ind_01</th>\n",
       "      <th>ps_ind_02_cat</th>\n",
       "      <th>ps_ind_03</th>\n",
       "      <th>ps_ind_04_cat</th>\n",
       "      <th>ps_ind_05_cat</th>\n",
       "      <th>ps_ind_06_bin</th>\n",
       "      <th>ps_ind_07_bin</th>\n",
       "      <th>ps_ind_08_bin</th>\n",
       "      <th>...</th>\n",
       "      <th>ps_calc_11</th>\n",
       "      <th>ps_calc_12</th>\n",
       "      <th>ps_calc_13</th>\n",
       "      <th>ps_calc_14</th>\n",
       "      <th>ps_calc_15_bin</th>\n",
       "      <th>ps_calc_16_bin</th>\n",
       "      <th>ps_calc_17_bin</th>\n",
       "      <th>ps_calc_18_bin</th>\n",
       "      <th>ps_calc_19_bin</th>\n",
       "      <th>ps_calc_20_bin</th>\n",
       "    </tr>\n",
       "  </thead>\n",
       "  <tbody>\n",
       "    <tr>\n",
       "      <th>0</th>\n",
       "      <td>7</td>\n",
       "      <td>0</td>\n",
       "      <td>2</td>\n",
       "      <td>2</td>\n",
       "      <td>5</td>\n",
       "      <td>1</td>\n",
       "      <td>0</td>\n",
       "      <td>0</td>\n",
       "      <td>1</td>\n",
       "      <td>0</td>\n",
       "      <td>...</td>\n",
       "      <td>9</td>\n",
       "      <td>1</td>\n",
       "      <td>5</td>\n",
       "      <td>8</td>\n",
       "      <td>0</td>\n",
       "      <td>1</td>\n",
       "      <td>1</td>\n",
       "      <td>0</td>\n",
       "      <td>0</td>\n",
       "      <td>1</td>\n",
       "    </tr>\n",
       "    <tr>\n",
       "      <th>1</th>\n",
       "      <td>9</td>\n",
       "      <td>0</td>\n",
       "      <td>1</td>\n",
       "      <td>1</td>\n",
       "      <td>7</td>\n",
       "      <td>0</td>\n",
       "      <td>0</td>\n",
       "      <td>0</td>\n",
       "      <td>0</td>\n",
       "      <td>1</td>\n",
       "      <td>...</td>\n",
       "      <td>3</td>\n",
       "      <td>1</td>\n",
       "      <td>1</td>\n",
       "      <td>9</td>\n",
       "      <td>0</td>\n",
       "      <td>1</td>\n",
       "      <td>1</td>\n",
       "      <td>0</td>\n",
       "      <td>1</td>\n",
       "      <td>0</td>\n",
       "    </tr>\n",
       "    <tr>\n",
       "      <th>2</th>\n",
       "      <td>13</td>\n",
       "      <td>0</td>\n",
       "      <td>5</td>\n",
       "      <td>4</td>\n",
       "      <td>9</td>\n",
       "      <td>1</td>\n",
       "      <td>0</td>\n",
       "      <td>0</td>\n",
       "      <td>0</td>\n",
       "      <td>1</td>\n",
       "      <td>...</td>\n",
       "      <td>4</td>\n",
       "      <td>2</td>\n",
       "      <td>7</td>\n",
       "      <td>7</td>\n",
       "      <td>0</td>\n",
       "      <td>1</td>\n",
       "      <td>1</td>\n",
       "      <td>0</td>\n",
       "      <td>1</td>\n",
       "      <td>0</td>\n",
       "    </tr>\n",
       "    <tr>\n",
       "      <th>3</th>\n",
       "      <td>16</td>\n",
       "      <td>0</td>\n",
       "      <td>0</td>\n",
       "      <td>1</td>\n",
       "      <td>2</td>\n",
       "      <td>0</td>\n",
       "      <td>0</td>\n",
       "      <td>1</td>\n",
       "      <td>0</td>\n",
       "      <td>0</td>\n",
       "      <td>...</td>\n",
       "      <td>2</td>\n",
       "      <td>2</td>\n",
       "      <td>4</td>\n",
       "      <td>9</td>\n",
       "      <td>0</td>\n",
       "      <td>0</td>\n",
       "      <td>0</td>\n",
       "      <td>0</td>\n",
       "      <td>0</td>\n",
       "      <td>0</td>\n",
       "    </tr>\n",
       "    <tr>\n",
       "      <th>4</th>\n",
       "      <td>17</td>\n",
       "      <td>0</td>\n",
       "      <td>0</td>\n",
       "      <td>2</td>\n",
       "      <td>0</td>\n",
       "      <td>1</td>\n",
       "      <td>0</td>\n",
       "      <td>1</td>\n",
       "      <td>0</td>\n",
       "      <td>0</td>\n",
       "      <td>...</td>\n",
       "      <td>3</td>\n",
       "      <td>1</td>\n",
       "      <td>1</td>\n",
       "      <td>3</td>\n",
       "      <td>0</td>\n",
       "      <td>0</td>\n",
       "      <td>0</td>\n",
       "      <td>1</td>\n",
       "      <td>1</td>\n",
       "      <td>0</td>\n",
       "    </tr>\n",
       "  </tbody>\n",
       "</table>\n",
       "<p>5 rows × 59 columns</p>\n",
       "</div>"
      ],
      "text/plain": [
       "   id  target  ps_ind_01  ps_ind_02_cat  ps_ind_03  ps_ind_04_cat  \\\n",
       "0   7       0          2              2          5              1   \n",
       "1   9       0          1              1          7              0   \n",
       "2  13       0          5              4          9              1   \n",
       "3  16       0          0              1          2              0   \n",
       "4  17       0          0              2          0              1   \n",
       "\n",
       "   ps_ind_05_cat  ps_ind_06_bin  ps_ind_07_bin  ps_ind_08_bin       ...        \\\n",
       "0              0              0              1              0       ...         \n",
       "1              0              0              0              1       ...         \n",
       "2              0              0              0              1       ...         \n",
       "3              0              1              0              0       ...         \n",
       "4              0              1              0              0       ...         \n",
       "\n",
       "   ps_calc_11  ps_calc_12  ps_calc_13  ps_calc_14  ps_calc_15_bin  \\\n",
       "0           9           1           5           8               0   \n",
       "1           3           1           1           9               0   \n",
       "2           4           2           7           7               0   \n",
       "3           2           2           4           9               0   \n",
       "4           3           1           1           3               0   \n",
       "\n",
       "   ps_calc_16_bin  ps_calc_17_bin  ps_calc_18_bin  ps_calc_19_bin  \\\n",
       "0               1               1               0               0   \n",
       "1               1               1               0               1   \n",
       "2               1               1               0               1   \n",
       "3               0               0               0               0   \n",
       "4               0               0               1               1   \n",
       "\n",
       "   ps_calc_20_bin  \n",
       "0               1  \n",
       "1               0  \n",
       "2               0  \n",
       "3               0  \n",
       "4               0  \n",
       "\n",
       "[5 rows x 59 columns]"
      ]
     },
     "execution_count": 8,
     "metadata": {},
     "output_type": "execute_result"
    }
   ],
   "source": [
    "print(df.shape)\n",
    "print(list(df.dtypes))\n",
    "print(df.isnull().sum())\n",
    "df.head()"
   ]
  },
  {
   "cell_type": "markdown",
   "metadata": {},
   "source": [
    "We see there are ~600k data points with 59 columns:\n",
    "    - 1 index\n",
    "    - 1 target (claim or no claim) \n",
    "    - 57 numerical features.\n",
    "\n",
    "It looks like they are all numerical (either *int*s or *float*s) meaning we don't seem to have any text related data. Because the data is in such a nice format, I am going to dive right into seeing what kind of results we can get with a few untrained models. This will give a baseline for how good we can do without doing any hyperparameter tuning or feature engineering. Before we do that though, we need to one-hot encode the categorical variables. "
   ]
  },
  {
   "cell_type": "code",
   "execution_count": 76,
   "metadata": {
    "collapsed": false,
    "scrolled": true
   },
   "outputs": [
    {
     "name": "stdout",
     "output_type": "stream",
     "text": [
      "Converted shape of (595212, 57) to (595212, 118)!\n",
      "(595212, 118)\n",
      "(595212L,)\n"
     ]
    }
   ],
   "source": [
    "from sklearn.preprocessing import OneHotEncoder\n",
    "\n",
    "def onehotcatcols(x,uniquevalthresh = 10):\n",
    "    \"\"\"\n",
    "    Takes feature data, x, and one hot encodes only the columns\n",
    "    that have less then 10 and more than 2 columns. Then joins\n",
    "    that data back up with the other features. \n",
    "    \n",
    "    Input x must be numerical data, but can be negative.\n",
    "    \"\"\"\n",
    "    orig = x.shape\n",
    "    catcols = []\n",
    "    noncatcols = []\n",
    "    colnum = 0\n",
    "    minval = 0 \n",
    "\n",
    "    # If any column has between 3 and uniquevalthresh unique values, \n",
    "    # consider it categorical and add it to the catcols data\n",
    "    for col in list(x):\n",
    "        if (len(x[col].unique()) < uniquevalthresh and len(x[col].unique()) > 2): \n",
    "            catcols.append(colnum)\n",
    "            if min(x[col]) < minval:\n",
    "                minval = min(x[col])\n",
    "        else: \n",
    "            noncatcols.append(colnum)\n",
    "        colnum += 1\n",
    "        \n",
    "    catdata = x.iloc[:,catcols] - minval\n",
    "    noncatdata = x.iloc[:,noncatcols]\n",
    "\n",
    "    enc = OneHotEncoder()\n",
    "    catdata = enc.fit_transform(catdata)\n",
    "    catdata = pd.DataFrame(catdata.toarray())\n",
    "    \n",
    "    # Join categorical and non-categorical data back together and return it\n",
    "    newx = pd.concat([catdata, noncatdata], axis = 1, join='inner')\n",
    "    print (\"Converted shape of %s to %s!\") % (orig, newx.shape)\n",
    "    return newx\n",
    "\n",
    "features = df.drop(['target', 'id'], axis = 1)\n",
    "\n",
    "x = onehotcatcols(features)\n",
    "y = df['target']\n",
    "\n",
    "print(x.shape)\n",
    "print(y.shape)"
   ]
  },
  {
   "cell_type": "markdown",
   "metadata": {},
   "source": [
    "We went from having 57 features to 118 features from one-hot encoding, meaning at this point we have a pretty massive data set (600k rows and 118 features). Most models require (or at minimum, produce improved results with) 0-1 feature scaling of input data, so I am going to scale the features just for simplicity sake. "
   ]
  },
  {
   "cell_type": "code",
   "execution_count": 77,
   "metadata": {
    "collapsed": false
   },
   "outputs": [
    {
     "data": {
      "text/plain": [
       "(595212, 118)"
      ]
     },
     "execution_count": 77,
     "metadata": {},
     "output_type": "execute_result"
    }
   ],
   "source": [
    "from sklearn.preprocessing import StandardScaler\n",
    "\n",
    "scaler = StandardScaler()\n",
    "x = pd.DataFrame(scaler.fit_transform(x))\n",
    "x.shape"
   ]
  },
  {
   "cell_type": "markdown",
   "metadata": {},
   "source": [
    "Now that the data is ready, we can do an 80-20 test train split. I am going to use stratified sampling to ensure we get a consistent percent of accidents (target=1) in our train and test data. "
   ]
  },
  {
   "cell_type": "code",
   "execution_count": 78,
   "metadata": {
    "collapsed": false
   },
   "outputs": [
    {
     "name": "stdout",
     "output_type": "stream",
     "text": [
      "(476169, 118)\n",
      "(476169L,)\n",
      "(119043, 118)\n",
      "(119043L,)\n"
     ]
    }
   ],
   "source": [
    "from sklearn.model_selection import train_test_split\n",
    "\n",
    "train_x, test_x, train_y, test_y = train_test_split(x, y, test_size = .2, stratify = y, random_state = 123)\n",
    "print(train_x.shape)\n",
    "print(train_y.shape)\n",
    "print(test_x.shape)\n",
    "print(test_y.shape)\n"
   ]
  },
  {
   "cell_type": "markdown",
   "metadata": {},
   "source": [
    "Now that the data is ready, I will make a custom scorer for normalized gini coefficient. SciKit Learn does not offer this as a function and this is what Kaggle is using as a scoring metric. "
   ]
  },
  {
   "cell_type": "code",
   "execution_count": 12,
   "metadata": {
    "collapsed": false
   },
   "outputs": [],
   "source": [
    "def gini(actual, pred, cmpcol = 0, sortcol = 1):\n",
    "     assert( len(actual) == len(pred) )\n",
    "     all = np.asarray(np.c_[ actual, pred, np.arange(len(actual)) ], dtype=np.float)\n",
    "     all = all[ np.lexsort((all[:,2], -1*all[:,1])) ]\n",
    "     totalLosses = all[:,0].sum()\n",
    "     giniSum = all[:,0].cumsum().sum() / totalLosses\n",
    " \n",
    "     giniSum -= (len(actual) + 1) / 2.\n",
    "     return giniSum / len(actual)\n",
    " \n",
    "def gini_normalized(a, p):\n",
    "     return gini(a, p) / gini(a, a)\n",
    "    \n",
    "from sklearn.metrics import make_scorer\n",
    "\n",
    "norm_gini = make_scorer(gini_normalized, needs_proba = True)"
   ]
  },
  {
   "cell_type": "markdown",
   "metadata": {},
   "source": [
    "Now that the data is ready to go and we have a scoring function, we'll test out a couple common different models. Below I briefly mention the models I will test, why I chose them, and some hyperparameters that I am tweaking right off the bat. \n",
    "\n",
    "- **Random Forest**\n",
    "    - **Why**: \n",
    "        - Random forests are known for performing well in many machine learning projects, though their run times do not scale well with large data sets and thus run-time may be an issue. \n",
    "    - **Hyperparameters**:\n",
    "        - SciKit Learn's implementation starts with *n_estimators* (# of trees) as 10, but I am going to change this to 100 since we have such a massive data set. \n",
    "        - I'll also set *max_depth* as 20 in hopes that it will reduce overfitting. \n",
    "        - I am also setting the *n_jobs* parameter to -1 in order to take advantage of my dual-core processor considering runtime may be slow on this rather large data set. \n",
    "\n",
    "\n",
    "- **Logistic Regression**\n",
    "    - **Why**: \n",
    "        - Logistic regression is designed in order to predict the probability that an event will occur. \n",
    "        - Time complexity scales well with large data sets, though it often misses complex relationships. \n",
    "    - **Hyperparameters**:\n",
    "        - Since we have a highly skewed data set (only 5% of people actually file a claim in this data set), we should set class weights to 'balance'. This will ensure we aren't just always guessing 'no claim'! \n",
    "\n",
    "- **Stochastic Gradient Descent Classifier**\n",
    "    - **Why**: \n",
    "        - Logistic regression is designed in order to predict the probability that an event will occur. The time complexity scales well with large data sets, though often misses complex relationships. \n",
    "    - **Hyperparameters**:\n",
    "        - I can set loss function to 'log' to solve a logistic regression problem using stochastic gradient descent\n",
    "        - I need to use balanced class weights here for the same reason as above. \n",
    "\n",
    "I also set the random seed arbitrarily to 123 to ensure reproducability. "
   ]
  },
  {
   "cell_type": "code",
   "execution_count": 44,
   "metadata": {
    "collapsed": false
   },
   "outputs": [
    {
     "name": "stdout",
     "output_type": "stream",
     "text": [
      "random forest scores: -0.124948145538\n"
     ]
    }
   ],
   "source": [
    "from sklearn.ensemble import RandomForestClassifier\n",
    "from sklearn.model_selection import cross_val_score\n",
    "\n",
    "rf = RandomForestClassifier(n_estimators = 50, random_state = 123, class_weight = 'balanced')\n",
    "rf.fit(train_x, train_y)\n",
    "preds = rf.predict_proba(test_x) \n",
    "\n",
    "print(\"random forest scores: %s\" %(gini_normalized(test_y,preds)))"
   ]
  },
  {
   "cell_type": "code",
   "execution_count": 45,
   "metadata": {
    "collapsed": false
   },
   "outputs": [
    {
     "name": "stdout",
     "output_type": "stream",
     "text": [
      "random forest scores: -0.152731219225\n"
     ]
    }
   ],
   "source": [
    "rf = RandomForestClassifier(n_estimators = 50, random_state = 123)\n",
    "rf.fit(train_x, train_y)\n",
    "preds = rf.predict_proba(test_x) \n",
    "\n",
    "print(\"random forest scores: %s\" %(gini_normalized(test_y,preds)))"
   ]
  },
  {
   "cell_type": "code",
   "execution_count": 80,
   "metadata": {
    "collapsed": false
   },
   "outputs": [
    {
     "name": "stdout",
     "output_type": "stream",
     "text": [
      "logistic regression scores: [ 0.6203623   0.63291688  0.62634287  0.62964187  0.62954621]\n"
     ]
    }
   ],
   "source": [
    "from sklearn.linear_model import LogisticRegression\n",
    "\n",
    "logreg = LogisticRegression(class_weight = 'balanced', random_state = 123)\n",
    "logreg_scores = cross_val_score(logreg, train_x, train_y, scoring = 'roc_auc', cv=5)\n",
    "\n",
    "print(\"logistic regression scores: %s\" %(logreg_scores))"
   ]
  },
  {
   "cell_type": "code",
   "execution_count": 14,
   "metadata": {
    "collapsed": false
   },
   "outputs": [
    {
     "name": "stderr",
     "output_type": "stream",
     "text": [
      "C:\\Users\\Vicky\\Anaconda2\\lib\\site-packages\\sklearn\\linear_model\\stochastic_gradient.py:128: FutureWarning: max_iter and tol parameters have been added in <class 'sklearn.linear_model.stochastic_gradient.SGDClassifier'> in 0.19. If both are left unset, they default to max_iter=5 and tol=None. If tol is not None, max_iter defaults to max_iter=1000. From 0.21, default max_iter will be 1000, and default tol will be 1e-3.\n",
      "  \"and default tol will be 1e-3.\" % type(self), FutureWarning)\n"
     ]
    },
    {
     "name": "stdout",
     "output_type": "stream",
     "text": [
      "stochastic gradient descent scores: [ 0.55084491  0.52197164  0.52467192  0.51720258  0.52012382]\n"
     ]
    }
   ],
   "source": [
    "from sklearn.linear_model import SGDClassifier\n",
    "\n",
    "sgd = SGDClassifier(loss='log', class_weight = norm_gini, random_state = 123)\n",
    "sgd_scores = cross_val_score(sgd, train_x, train_y, scoring = 'roc_auc', cv=5)\n",
    "\n",
    "print(\"stochastic gradient descent scores: %s\" %(sgd_scores))"
   ]
  },
  {
   "cell_type": "markdown",
   "metadata": {
    "collapsed": false
   },
   "source": [
    "Now that we can see a basic model isn't overfitting the data, we can compute the normalized gini coefficient using our models. Kaggle was nice enough to offer the code to compute a normalized gini coefficent, which is the metric our submissiong will be based upon.  "
   ]
  },
  {
   "cell_type": "code",
   "execution_count": 18,
   "metadata": {
    "collapsed": false
   },
   "outputs": [
    {
     "name": "stdout",
     "output_type": "stream",
     "text": [
      "0.0164782803208\n",
      "0.189036222608\n",
      "0.0928555195566\n"
     ]
    }
   ],
   "source": [
    "rf.fit(train_x, train_y)\n",
    "rf_preds = rf.predict(test_x)\n",
    "print(gini_normalized(test_y, rf_preds))\n",
    "\n",
    "logreg.fit(train_x, train_y)\n",
    "logreg_preds = logreg.predict(test_x)\n",
    "print(gini_normalized(test_y, logreg_preds))\n",
    "\n",
    "sgd.fit(train_x, train_y)\n",
    "sgd_preds = sgd.predict(test_x)\n",
    "print(gini_normalized(test_y, sgd_preds))\n"
   ]
  },
  {
   "cell_type": "markdown",
   "metadata": {},
   "source": [
    "It looks like the logistic regression performed the best by far. Let's check out a confusion matrix to see how we did!"
   ]
  },
  {
   "cell_type": "code",
   "execution_count": 87,
   "metadata": {
    "collapsed": false
   },
   "outputs": [
    {
     "ename": "NameError",
     "evalue": "name 'logreg_preds' is not defined",
     "output_type": "error",
     "traceback": [
      "\u001b[0;31m---------------------------------------------------------------------------\u001b[0m",
      "\u001b[0;31mNameError\u001b[0m                                 Traceback (most recent call last)",
      "\u001b[0;32m<ipython-input-87-adf15021046d>\u001b[0m in \u001b[0;36m<module>\u001b[0;34m()\u001b[0m\n\u001b[1;32m     33\u001b[0m \u001b[1;31m# Compute confusion matrix\u001b[0m\u001b[1;33m\u001b[0m\u001b[1;33m\u001b[0m\u001b[0m\n\u001b[1;32m     34\u001b[0m \u001b[0mclass_names\u001b[0m \u001b[1;33m=\u001b[0m \u001b[1;33m[\u001b[0m\u001b[1;36m0\u001b[0m\u001b[1;33m,\u001b[0m\u001b[1;36m1\u001b[0m\u001b[1;33m]\u001b[0m\u001b[1;33m\u001b[0m\u001b[0m\n\u001b[0;32m---> 35\u001b[0;31m \u001b[0mcnf_matrix\u001b[0m \u001b[1;33m=\u001b[0m \u001b[0mconfusion_matrix\u001b[0m\u001b[1;33m(\u001b[0m\u001b[0mtest_y\u001b[0m\u001b[1;33m,\u001b[0m \u001b[0mlogreg_preds\u001b[0m\u001b[1;33m)\u001b[0m\u001b[1;33m\u001b[0m\u001b[0m\n\u001b[0m\u001b[1;32m     36\u001b[0m \u001b[0mnp\u001b[0m\u001b[1;33m.\u001b[0m\u001b[0mset_printoptions\u001b[0m\u001b[1;33m(\u001b[0m\u001b[0mprecision\u001b[0m\u001b[1;33m=\u001b[0m\u001b[1;36m2\u001b[0m\u001b[1;33m)\u001b[0m\u001b[1;33m\u001b[0m\u001b[0m\n\u001b[1;32m     37\u001b[0m \u001b[1;33m\u001b[0m\u001b[0m\n",
      "\u001b[0;31mNameError\u001b[0m: name 'logreg_preds' is not defined"
     ]
    }
   ],
   "source": [
    "import itertools\n",
    "import matplotlib.pyplot as plt\n",
    "from sklearn.metrics import confusion_matrix\n",
    "\n",
    "def plot_confusion_matrix(cm, classes,\n",
    "                          normalize=False,\n",
    "                          title='Confusion matrix',\n",
    "                          cmap=plt.cm.Blues):\n",
    "    \"\"\"\n",
    "    This function prints and plots the confusion matrix.\n",
    "    \"\"\"\n",
    "\n",
    "    print(cm)\n",
    "\n",
    "    plt.imshow(cm, interpolation='nearest', cmap=cmap)\n",
    "    plt.title(title)\n",
    "    plt.colorbar()\n",
    "    tick_marks = np.arange(len(classes))\n",
    "    plt.xticks(tick_marks, classes, rotation=45)\n",
    "    plt.yticks(tick_marks, classes)\n",
    "\n",
    "    fmt = '.2f' if normalize else 'd'\n",
    "    thresh = cm.max() / 2.\n",
    "    for i, j in itertools.product(range(cm.shape[0]), range(cm.shape[1])):\n",
    "        plt.text(j, i, format(cm[i, j], fmt),\n",
    "                 horizontalalignment=\"center\",\n",
    "                 color=\"white\" if cm[i, j] > thresh else \"black\")\n",
    "\n",
    "    plt.tight_layout()\n",
    "    plt.ylabel('True label')\n",
    "    plt.xlabel('Predicted label')\n",
    "\n",
    "# Compute confusion matrix\n",
    "class_names = [0,1]\n",
    "cnf_matrix = confusion_matrix(test_y, logreg_preds)\n",
    "np.set_printoptions(precision=2)\n",
    "\n",
    "# Plot confusion matrix\n",
    "plt.figure()\n",
    "plot_confusion_matrix(cnf_matrix, classes=class_names,\n",
    "                      title='Ins. Claims Confusion matrix')\n",
    "\n",
    "plt.show()"
   ]
  },
  {
   "cell_type": "markdown",
   "metadata": {},
   "source": [
    "It looks like we would have predicted 2477 out of 4458 claims correctly, though we had 43k false positives *(smh)*. Not bad, considering we haven't really done anything! Now we'll just re-train the logistic regression model on the entire data set, use it to predict the test.7z file and save the output in the correct format in a file called *results.csv*, which can then be uploaded into the Kaggle submissions page."
   ]
  },
  {
   "cell_type": "code",
   "execution_count": 21,
   "metadata": {
    "collapsed": false
   },
   "outputs": [
    {
     "name": "stdout",
     "output_type": "stream",
     "text": [
      "Converted shape of (892816, 57) to (892816, 118)!\n"
     ]
    }
   ],
   "source": [
    "logreg.fit(x,y)\n",
    "testdata = pd.read_csv('test.csv')\n",
    "\n",
    "test_features = testdata.drop(['id'], axis = 1)\n",
    "test_x = onehotcatcols(test_features)\n",
    "\n",
    "out = logreg.predict_proba(test_x)\n",
    "out = pd.DataFrame(out[:,1])\n",
    "out = pd.concat([testdata['id'], out], axis = 1, join = 'inner')\n",
    "out.columns = ['id', 'target']\n",
    "\n",
    "out.to_csv('kaggle_submission.csv', index = False)"
   ]
  },
  {
   "cell_type": "markdown",
   "metadata": {
    "collapsed": true
   },
   "source": [
    "After submitting to Kaggle, I scored .25 which got me 3659 out of 4729 (roughly 23rd percentile). Now that we have completed the project once and a baseline accuracy, let's do some real data science now. \n",
    "\n",
    "Unfortunately, Porto Seguro isn't telling us what any of this data actually means (presumably they don't want competitors taking the insight they're paying for), so we have no way of knowing what the data actually means. Due to this masking, **we'll have to blindly look for relationships in the data**. \n",
    "\n",
    "We can see right away that the columns have a particular nomenclature.  \n",
    "1. They all start with *ps* (presumably standing for Porto Seguro), \n",
    "2. They either have a *ind, reg, car, or calc* after them. \n",
    "    * Columns ending in *bin* and *cat* seem to be integer based, so those probably stand for in binary and categorical.\n",
    "    * Columns ending in *calc* are probably calculated columns and may exhibit more complex interactions\n",
    "3. *ind* stands for individual characteristics while *car* stands for vehicle characteristics\n",
    "\n",
    "Let's check out a correlation matrix to see some general trends in variables"
   ]
  },
  {
   "cell_type": "code",
   "execution_count": 144,
   "metadata": {
    "collapsed": false
   },
   "outputs": [
    {
     "data": {
      "image/png": "[encoded data removed]",
      "text/plain": [
       "<matplotlib.figure.Figure at 0x190253c8>"
      ]
     },
     "metadata": {},
     "output_type": "display_data"
    }
   ],
   "source": [
    "dfc = df[list(col for col in list(df) if \"calc\" not in col)]\n",
    "corr = dfc.corr()\n",
    "df.values[[np.arange(len(list(df)))]*2] = 0\n",
    "fig, ax = plt.subplots(figsize=(10, 10))\n",
    "ax.matshow(corr)\n",
    "plt.xticks(range(len(corr.columns)), corr.columns, rotation = 90)\n",
    "plt.yticks(range(len(corr.columns)), corr.columns)\n",
    "plt.set_cmap('RdYlGn')\n",
    "plt.show()"
   ]
  },
  {
   "cell_type": "markdown",
   "metadata": {},
   "source": [
    "From this we can see a few things:\n",
    "1. No variables appear to have any correlation with the target, which could be why we got such poor results from our initial models and is probably typical of complex anomaly problems such as this\n",
    "2. *ind_06* to *ind_09* are highly anti-correlated\n",
    "3. *ind_14* is highly correlated with *ind_11_bin, ind_12_bin,* and *ind_13_bin*\n",
    "4. *ind_16_bin, ind_17_bin,* and *ind_18_bin* are anti-correlated\n",
    "5. *car_12* and *car_13* are anti-correlated with *car_02_cat* and correlated with *car_04_cat*"
   ]
  },
  {
   "cell_type": "code",
   "execution_count": 164,
   "metadata": {
    "collapsed": false
   },
   "outputs": [
    {
     "data": {
      "text/plain": [
       "0"
      ]
     },
     "execution_count": 164,
     "metadata": {},
     "output_type": "execute_result"
    }
   ],
   "source": []
  },
  {
   "cell_type": "markdown",
   "metadata": {},
   "source": [
    "With the number of features being so high, one thing we should consider is dimensionality reduction. Running a quick Principle Components Analysis (PCA) below doesn't work great, but allows us to reduce the number of components from 118 to 88 with only losing ~ 4% of the variance. Not a bad tradeoff considering we reduce the number of components by 25%."
   ]
  },
  {
   "cell_type": "code",
   "execution_count": 180,
   "metadata": {
    "collapsed": false
   },
   "outputs": [
    {
     "name": "stdout",
     "output_type": "stream",
     "text": [
      "Old column count:     118\n",
      "New column count:     88\n",
      "% of columns removed: 25.4%\n",
      "% variance retained:  95.9%\n"
     ]
    }
   ],
   "source": [
    "from sklearn.decomposition import PCA\n",
    "\n",
    "pca = PCA(n_components= 88 )\n",
    "reddim = pca.fit_transform(x)\n",
    "\n",
    "print('Old column count:     ' + str(len(x.columns)))\n",
    "print('New column count:     ' + str(pca.n_components))\n",
    "print('% of columns removed: ' + str(round(1-float(pca.n_components)/len(x.columns),3)*100) + '%')\n",
    "print('% variance retained:  ' + str(round(sum(pca.explained_variance_ratio_),3)*100) + '%')\n"
   ]
  },
  {
   "cell_type": "code",
   "execution_count": 88,
   "metadata": {
    "collapsed": false
   },
   "outputs": [
    {
     "data": {
      "text/plain": [
       "array([[387349,  97568],\n",
       "       [110295,      0]], dtype=int64)"
      ]
     },
     "execution_count": 88,
     "metadata": {},
     "output_type": "execute_result"
    }
   ],
   "source": [
    "confusion_matrix(df['ps_ind_09_bin'],df['ps_ind_08_bin'])"
   ]
  },
  {
   "cell_type": "code",
   "execution_count": null,
   "metadata": {
    "collapsed": false
   },
   "outputs": [],
   "source": []
  },
  {
   "cell_type": "code",
   "execution_count": null,
   "metadata": {
    "collapsed": false
   },
   "outputs": [],
   "source": []
  },
  {
   "cell_type": "code",
   "execution_count": null,
   "metadata": {
    "collapsed": false
   },
   "outputs": [],
   "source": []
  },
  {
   "cell_type": "code",
   "execution_count": null,
   "metadata": {
    "collapsed": true
   },
   "outputs": [],
   "source": []
  }
 ],
 "metadata": {
  "kernelspec": {
   "display_name": "Python [conda root]",
   "language": "python",
   "name": "conda-root-py"
  },
  "language_info": {
   "codemirror_mode": {
    "name": "ipython",
    "version": 2
   },
   "file_extension": ".py",
   "mimetype": "text/x-python",
   "name": "python",
   "nbconvert_exporter": "python",
   "pygments_lexer": "ipython2",
   "version": "2.7.13"
  }
 },
 "nbformat": 4,
 "nbformat_minor": 2
}
